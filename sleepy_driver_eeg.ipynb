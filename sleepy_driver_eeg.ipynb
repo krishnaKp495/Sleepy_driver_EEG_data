{
 "cells": [
  {
   "cell_type": "code",
   "execution_count": null,
   "id": "5ba4939a-a75c-49c6-9f1c-4134bc3fa279",
   "metadata": {},
   "outputs": [],
   "source": [
    "# Import all required libraries"
   ]
  },
  {
   "cell_type": "code",
   "execution_count": null,
   "id": "df4d3bf5-3a8e-4cb7-9015-e94bab980671",
   "metadata": {},
   "outputs": [],
   "source": [
    "import pandas as pd\n",
    "import matplotlib.pyplot as plt\n",
    "from sklearn.preprocessing import StandardScaler\n",
    "import seaborn as sns\n",
    "from sklearn.model_selection import train_test_split\n",
    "from sklearn.metrics import accuracy_score\n",
    "from sklearn.linear_model import LogisticRegression\n",
    "from sklearn.ensemble import RandomForestClassifier\n",
    "from sklearn.svm import SVC\n",
    "from sklearn.tree import DecisionTreeClassifier\n",
    "from sklearn.feature_extraction.text import CountVectorizer\n",
    "from sklearn.neighbors import KNeighborsClassifier\n",
    "from sklearn.ensemble import GradientBoostingClassifier\n",
    "from sklearn.metrics import precision_score"
   ]
  },
  {
   "cell_type": "code",
   "execution_count": null,
   "id": "d2100c2a-9030-4ad2-a773-27175f659efc",
   "metadata": {},
   "outputs": [],
   "source": [
    "df = pd.read_csv(\"sleep.csv\")\n",
    "print(df.head(1))"
   ]
  },
  {
   "cell_type": "code",
   "execution_count": null,
   "id": "dbf23cf3-5533-43f1-8432-342d152b7f28",
   "metadata": {},
   "outputs": [],
   "source": [
    "df.isnull().any()                                    # Check for any missing values"
   ]
  },
  {
   "cell_type": "code",
   "execution_count": null,
   "id": "480d1d3c-125f-4a65-bd8c-708e6ed97673",
   "metadata": {},
   "outputs": [],
   "source": [
    "df.isnull().sum().sum()                              # Check total mising values"
   ]
  },
  {
   "cell_type": "code",
   "execution_count": null,
   "id": "d96524e1-2009-44d4-8aa2-996538f0f8c0",
   "metadata": {},
   "outputs": [],
   "source": [
    "df.describe()"
   ]
  },
  {
   "cell_type": "code",
   "execution_count": null,
   "id": "68e1d2a5-58d0-4245-8e65-e97f9414932e",
   "metadata": {},
   "outputs": [],
   "source": [
    "correlation_matrix = df.corr()"
   ]
  },
  {
   "cell_type": "code",
   "execution_count": null,
   "id": "25ea73dc-4a10-4497-8872-22f49b232c33",
   "metadata": {},
   "outputs": [],
   "source": [
    "plt.figure(figsize=(8, 6))\n",
    "\n",
    "# Create the heatmap\n",
    "sns.heatmap(correlation_matrix, annot=True, cmap='coolwarm', fmt='.2f')\n",
    "\n",
    "# Show the plot\n",
    "plt.show()"
   ]
  },
  {
   "cell_type": "code",
   "execution_count": null,
   "id": "e305402c-4399-40a3-a61e-3420057ca193",
   "metadata": {},
   "outputs": [],
   "source": [
    "x = df.drop(columns = \"classification\",axis =1)                          # Drop the \"classification\" column\n",
    "y = df[\"classification\"]"
   ]
  },
  {
   "cell_type": "code",
   "execution_count": null,
   "id": "217d0085-8481-4a20-b9a7-00a5c5e6a90d",
   "metadata": {},
   "outputs": [],
   "source": [
    "print(x.head(1))"
   ]
  },
  {
   "cell_type": "code",
   "execution_count": null,
   "id": "b2a7343b-52dd-43ea-b5de-bbfa4e27dafd",
   "metadata": {},
   "outputs": [],
   "source": [
    "# Standardising the data"
   ]
  },
  {
   "cell_type": "code",
   "execution_count": null,
   "id": "122874da-9df9-48f6-a323-134b4bda2932",
   "metadata": {},
   "outputs": [],
   "source": [
    "scaler = StandardScaler()\n",
    "df_scaled = scaler.fit_transform(x)"
   ]
  },
  {
   "cell_type": "code",
   "execution_count": null,
   "id": "5263bea9-0dae-4259-bc90-71dda55cb04e",
   "metadata": {},
   "outputs": [],
   "source": [
    "print(df_scaled)"
   ]
  },
  {
   "cell_type": "code",
   "execution_count": null,
   "id": "7915d2c6-c410-408a-a9ee-f672bab1c86b",
   "metadata": {},
   "outputs": [],
   "source": [
    "x = df_scaled"
   ]
  },
  {
   "cell_type": "code",
   "execution_count": null,
   "id": "08d6b9d5-831d-4d09-9594-86533d8a4fed",
   "metadata": {},
   "outputs": [],
   "source": [
    "# Train, test, split"
   ]
  },
  {
   "cell_type": "code",
   "execution_count": null,
   "id": "ce779792-45d6-42b4-a909-6e96586fa0d2",
   "metadata": {},
   "outputs": [],
   "source": [
    "x_train, x_test, y_train, y_test = train_test_split(x, y, test_size=0.2, random_state=42)"
   ]
  },
  {
   "cell_type": "code",
   "execution_count": null,
   "id": "8f81c621-38e7-4ab8-85fb-2ead17922242",
   "metadata": {},
   "outputs": [],
   "source": [
    "models = {\n",
    "    \"Logistic Regression\": LogisticRegression(max_iter=1000),\n",
    "    \"Random Forest\": RandomForestClassifier(n_estimators=100, random_state=42),\n",
    "    \"SVM\": SVC(kernel= 'linear', random_state=42),\n",
    "    \"Decision Tree\": DecisionTreeClassifier(max_depth=5, random_state=42),\n",
    "    \"KNN\": KNeighborsClassifier(n_neighbors=5),\n",
    "    \"Gradient Boosting\": GradientBoostingClassifier(n_estimators=100, learning_rate=0.1, random_state=42)\n",
    "}"
   ]
  },
  {
   "cell_type": "code",
   "execution_count": null,
   "id": "6ac03e1d-7e6d-41e3-8c84-b8f98172bc56",
   "metadata": {},
   "outputs": [],
   "source": [
    "# Training the models and predicting accuracy against training data"
   ]
  },
  {
   "cell_type": "code",
   "execution_count": null,
   "id": "cd6e563f-6db5-483b-85ce-ec4c6bff57b1",
   "metadata": {},
   "outputs": [],
   "source": [
    "for name, model in models.items():\n",
    "    model.fit(x_train, y_train)\n",
    "    y_pred_train = model.predict(x_train)\n",
    "    accuracy = accuracy_score(y_train, y_pred_train)\n",
    "    print(f\"Model: {name}\")\n",
    "    print(f\"Accuracy: {accuracy}\")"
   ]
  },
  {
   "cell_type": "code",
   "execution_count": null,
   "id": "757e2f7f-3551-4feb-8c9e-376075fca46c",
   "metadata": {},
   "outputs": [],
   "source": [
    "# Predicting accuracy score agaisnt test data"
   ]
  },
  {
   "cell_type": "code",
   "execution_count": null,
   "id": "59894034-cda2-4284-abf5-b931426b3f10",
   "metadata": {},
   "outputs": [],
   "source": [
    "for name, model in models.items():\n",
    "    model.fit(x_train, y_train)\n",
    "    y_pred = model.predict(x_test)\n",
    "    accuracy = accuracy_score(y_test, y_pred)\n",
    "    print(f\"Model: {name}\")\n",
    "    print(f\"Accuracy: {accuracy}\")"
   ]
  },
  {
   "cell_type": "code",
   "execution_count": null,
   "id": "05dc4e9b-590b-4b60-8a27-381510d2cdc8",
   "metadata": {},
   "outputs": [],
   "source": [
    "# Creating predictive model"
   ]
  },
  {
   "cell_type": "code",
   "execution_count": null,
   "id": "40df97e9-2e8b-447f-b5da-082661660a5c",
   "metadata": {},
   "outputs": [],
   "source": [
    "def sleep(input_csv):\n",
    "    read = pd.read_csv(input_data)\n",
    "    scaler = StandardScaler()\n",
    "    read_scaled = scaler.fit_transform(read)\n",
    "    read_pred= model.predict(read_scaled)\n",
    "    if read_pred[0] ==0:\n",
    "        print(\"The driver is sleeping\")\n",
    "    else:\n",
    "        print(\"The driver is awake\")\n",
    "    "
   ]
  },
  {
   "cell_type": "code",
   "execution_count": null,
   "id": "b4968293-bd03-4fb9-9b01-d7dc56019c13",
   "metadata": {},
   "outputs": [],
   "source": []
  }
 ],
 "metadata": {
  "kernelspec": {
   "display_name": "Python 3 (ipykernel)",
   "language": "python",
   "name": "python3"
  },
  "language_info": {
   "codemirror_mode": {
    "name": "ipython",
    "version": 3
   },
   "file_extension": ".py",
   "mimetype": "text/x-python",
   "name": "python",
   "nbconvert_exporter": "python",
   "pygments_lexer": "ipython3",
   "version": "3.12.3"
  }
 },
 "nbformat": 4,
 "nbformat_minor": 5
}
